{
 "cells": [
  {
   "cell_type": "code",
   "execution_count": 2,
   "id": "2b168193",
   "metadata": {},
   "outputs": [],
   "source": [
    "import langchain"
   ]
  },
  {
   "cell_type": "code",
   "execution_count": 3,
   "id": "23a5f1ee",
   "metadata": {},
   "outputs": [
    {
     "data": {
      "text/plain": [
       "True"
      ]
     },
     "execution_count": 3,
     "metadata": {},
     "output_type": "execute_result"
    }
   ],
   "source": [
    "import os\n",
    "from dotenv import load_dotenv\n",
    "load_dotenv()"
   ]
  },
  {
   "cell_type": "code",
   "execution_count": null,
   "id": "f92c6c2a",
   "metadata": {},
   "outputs": [],
   "source": [
    "# through \"os\" we are accessing the system's file and through getenv we are accessing api keys \n",
    "os.environ[\"GROQ_API_KEY\"]=os.getenv(\"GROQ_API_KEY\")\n",
    "# we use this to access the new api key if anything is change in anycase keeping it updaated "
   ]
  },
  {
   "cell_type": "markdown",
   "id": "148bddbc",
   "metadata": {},
   "source": [
    "### Example 1 : simple llm call with streaming\n"
   ]
  },
  {
   "cell_type": "code",
   "execution_count": null,
   "id": "2ecedb20",
   "metadata": {},
   "outputs": [],
   "source": [
    "from langchain.chat_models import init_chat_model # help to creat chat model\n",
    "from langchain_core.messages import HumanMessage, SystemMessage # helps to send message to llm and llm to human ."
   ]
  },
  {
   "cell_type": "code",
   "execution_count": null,
   "id": "ec1a03cd",
   "metadata": {},
   "outputs": [
    {
     "data": {
      "text/plain": [
       "ChatGroq(client=<groq.resources.chat.completions.Completions object at 0x0000026569F9A360>, async_client=<groq.resources.chat.completions.AsyncCompletions object at 0x0000026569F99370>, model_name='llama-3.1-8b-instant', model_kwargs={}, groq_api_key=SecretStr('**********'))"
      ]
     },
     "execution_count": 12,
     "metadata": {},
     "output_type": "execute_result"
    }
   ],
   "source": [
    "# initialization of llm model\n",
    "model = init_chat_model(\"groq:llama-3.1-8b-instant\")\n",
    "model"
   ]
  },
  {
   "cell_type": "code",
   "execution_count": null,
   "id": "e56c8081",
   "metadata": {},
   "outputs": [],
   "source": [
    "#Another way of initialization of the model \n",
    "# from langchain_groq import ChatGroq\n",
    "# llm = ChatGroq(\"groq:llama-3.1-8b-instant\")\n",
    "# llm"
   ]
  },
  {
   "cell_type": "code",
   "execution_count": 14,
   "id": "49e258bc",
   "metadata": {},
   "outputs": [],
   "source": [
    "# create messages\n",
    "messages=[\n",
    "    SystemMessage(\"You are a helpfull AI Assistant\"),\n",
    "    HumanMessage(\"What are the top 2 Benifits of using Langchain?\")\n",
    "]"
   ]
  },
  {
   "cell_type": "code",
   "execution_count": 16,
   "id": "ff8e0b64",
   "metadata": {},
   "outputs": [
    {
     "data": {
      "text/plain": [
       "AIMessage(content=\"Langchain is an open-source framework that enables developers to build more human-like AI models. Based on my knowledge, here are the top 2 benefits of using Langchain:\\n\\n1. **Improved Context Understanding**: Langchain allows developers to create AI models that can better understand the context of a conversation or a question. This is achieved through the use of techniques such as graph-based reasoning and chain-based thinking, which enable the AI model to consider multiple perspectives and relationships between different pieces of information. This leads to more accurate and relevant responses.\\n\\n2. **Enhanced Creativity and Problem-Solving**: Langchain's framework enables developers to build AI models that can generate novel and creative solutions to complex problems. By using techniques such as chain-based thinking and multi-agent reasoning, Langchain's AI models can consider multiple possibilities and generate new ideas that may not have been considered otherwise. This makes Langchain particularly useful for applications such as writing, research, and ideation.\\n\\nThese benefits are made possible by Langchain's ability to integrate multiple AI models and techniques, allowing developers to build more powerful and human-like AI systems.\", additional_kwargs={}, response_metadata={'token_usage': {'completion_tokens': 223, 'prompt_tokens': 56, 'total_tokens': 279, 'completion_time': 0.320740997, 'prompt_time': 0.007864976, 'queue_time': 0.127600284, 'total_time': 0.328605973}, 'model_name': 'llama-3.1-8b-instant', 'system_fingerprint': 'fp_7083106d2c', 'service_tier': 'on_demand', 'finish_reason': 'stop', 'logprobs': None}, id='run--b595dce9-2547-4bd9-9006-6f345313e9b6-0', usage_metadata={'input_tokens': 56, 'output_tokens': 223, 'total_tokens': 279})"
      ]
     },
     "execution_count": 16,
     "metadata": {},
     "output_type": "execute_result"
    }
   ],
   "source": [
    "#invoke the model\n",
    "response = model.invoke(messages)\n",
    "response"
   ]
  },
  {
   "cell_type": "code",
   "execution_count": 17,
   "metadata": {},
   "outputs": [
    {
     "name": "stdout",
     "output_type": "stream",
     "text": [
      "Langchain is an open-source framework that enables developers to build more human-like AI models. Based on my knowledge, here are the top 2 benefits of using Langchain:\n",
      "\n",
      "1. **Improved Context Understanding**: Langchain allows developers to create AI models that can better understand the context of a conversation or a question. This is achieved through the use of techniques such as graph-based reasoning and chain-based thinking, which enable the AI model to consider multiple perspectives and relationships between different pieces of information. This leads to more accurate and relevant responses.\n",
      "\n",
      "2. **Enhanced Creativity and Problem-Solving**: Langchain's framework enables developers to build AI models that can generate novel and creative solutions to complex problems. By using techniques such as chain-based thinking and multi-agent reasoning, Langchain's AI models can consider multiple possibilities and generate new ideas that may not have been considered otherwise. This makes Langchain particularly useful for applications such as writing, research, and ideation.\n",
      "\n",
      "These benefits are made possible by Langchain's ability to integrate multiple AI models and techniques, allowing developers to build more powerful and human-like AI systems.\n"
     ]
    }
   ],
   "source": [
    "print(response.content)"
   ]
  },
  {
   "cell_type": "code",
   "execution_count": 19,
   "id": "529b8060",
   "metadata": {},
   "outputs": [
    {
     "data": {
      "text/plain": [
       "AIMessage(content='Machine learning is a subset of artificial intelligence (AI) that involves the use of algorithms and statistical models to enable computers to learn from data, without being explicitly programmed. It allows machines to make predictions, classify objects, and make decisions based on the data they have been trained on.\\n\\nMachine learning is a type of self-improvement that enables machines to get better at performing specific tasks through experience and exposure to data. The goal of machine learning is to automatically improve the performance of a task by learning from data and experience.\\n\\nMachine learning algorithms can be broadly categorized into three types:\\n\\n1. **Supervised learning**: In this type of learning, the machine is trained on labeled data, where the correct output is already known. The machine learns to map inputs to outputs based on the labeled data.\\n2. **Unsupervised learning**: In this type of learning, the machine is trained on unlabeled data, and it must find patterns and relationships in the data on its own.\\n3. **Reinforcement learning**: In this type of learning, the machine learns by interacting with an environment and receiving rewards or penalties for its actions.\\n\\nSome common applications of machine learning include:\\n\\n1. **Image recognition**: Machines can be trained to recognize objects, faces, and patterns in images.\\n2. **Natural language processing**: Machines can be trained to understand and generate human language.\\n3. **Speech recognition**: Machines can be trained to recognize and transcribe spoken language.\\n4. **Predictive analytics**: Machines can be trained to predict future events, such as stock prices or customer behavior.\\n5. **Recommendation systems**: Machines can be trained to recommend products or services based on user behavior and preferences.\\n\\nMachine learning has many benefits, including:\\n\\n1. **Improved accuracy**: Machines can make predictions and decisions with a high degree of accuracy.\\n2. **Increased efficiency**: Machines can automate repetitive tasks and free up human resources for more complex tasks.\\n3. **Enhanced decision-making**: Machines can provide insights and recommendations that human decision-makers may not have considered.\\n4. **Personalization**: Machines can provide personalized experiences and recommendations based on user behavior and preferences.\\n\\nHowever, machine learning also has some challenges and limitations, including:\\n\\n1. **Data quality**: Machine learning requires high-quality data to learn from, and poor data quality can lead to poor performance.\\n2. **Bias and fairness**: Machine learning models can perpetuate biases present in the data, and fairness is a major concern.\\n3. **Explainability**: Machine learning models can be difficult to interpret and understand, which can make it challenging to trust their decisions.\\n4. **Security**: Machine learning models can be vulnerable to attacks and data breaches, which can compromise their performance and trustworthiness.\\n\\nOverall, machine learning is a powerful tool that has the potential to transform many industries and aspects of life. However, it requires careful consideration of its challenges and limitations to ensure that it is used responsibly and effectively.', additional_kwargs={}, response_metadata={'token_usage': {'completion_tokens': 592, 'prompt_tokens': 39, 'total_tokens': 631, 'completion_time': 0.680507119, 'prompt_time': 0.068397381, 'queue_time': 0.154291038, 'total_time': 0.7489045}, 'model_name': 'llama-3.1-8b-instant', 'system_fingerprint': 'fp_7083106d2c', 'service_tier': 'on_demand', 'finish_reason': 'stop', 'logprobs': None}, id='run--4bc0a503-f034-4b00-b164-a4d9a9fc4a1e-0', usage_metadata={'input_tokens': 39, 'output_tokens': 592, 'total_tokens': 631})"
      ]
     },
     "execution_count": 19,
     "metadata": {},
     "output_type": "execute_result"
    }
   ],
   "source": [
    "model.invoke([HumanMessage(\"what is machine learning\")])"
   ]
  },
  {
   "cell_type": "code",
   "execution_count": 23,
   "metadata": {},
   "outputs": [
    {
     "name": "stdout",
     "output_type": "stream",
     "text": [
      "Langchain is an open-source AI framework that enables the development of multimodal large language models (LLMs). Here are two of the top benefits of using Langchain:\n",
      "\n",
      "1. **Multimodal Learning and Reasoning**: Langchain allows you to combine multiple data sources and modalities (e.g., text, images, audio) to create a more comprehensive understanding of a topic. This means you can integrate various forms of data to generate more accurate, contextual, and relevant responses. By using Langchain, you can leverage the strengths of different data sources and modalities to create a more robust and informative model.\n",
      "\n",
      "2. **Improved Reasoning and Inference**: Langchain enables the development of more advanced reasoning and inference capabilities by allowing you to integrate multiple LLMs and other AI models. This creates a powerful architecture that can reason and infer more accurately, generating more coherent and logical responses to complex questions and prompts. By using Langchain, you can create more sophisticated models that can handle nuanced and abstract topics.\n",
      "\n",
      "These benefits make Langchain an attractive choice for developers and researchers looking to build more advanced and multimodal AI models."
     ]
    }
   ],
   "source": [
    "# Streaming of data from llm into chunks\n",
    "for chunk in model.stream(messages):\n",
    "    print(chunk.content, end=\"\", flush=True)"
   ]
  },
  {
   "cell_type": "markdown",
   "id": "7676bacb",
   "metadata": {},
   "source": [
    "####Dynamic Prompt Templates\n"
   ]
  },
  {
   "cell_type": "code",
   "execution_count": null,
   "id": "20bec796",
   "metadata": {},
   "outputs": [],
   "source": []
  }
 ],
 "metadata": {
  "kernelspec": {
   "display_name": "langchains_apps",
   "language": "python",
   "name": "python3"
  },
  "language_info": {
   "codemirror_mode": {
    "name": "ipython",
    "version": 3
   },
   "file_extension": ".py",
   "mimetype": "text/x-python",
   "name": "python",
   "nbconvert_exporter": "python",
   "pygments_lexer": "ipython3",
   "version": "3.12.10"
  }
 },
 "nbformat": 4,
 "nbformat_minor": 5
}
